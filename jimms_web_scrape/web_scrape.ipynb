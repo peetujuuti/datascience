{
 "cells": [
  {
   "cell_type": "markdown",
   "metadata": {},
   "source": [
    "#### Imports"
   ]
  },
  {
   "cell_type": "code",
   "execution_count": 15,
   "metadata": {},
   "outputs": [],
   "source": [
    "from bs4 import BeautifulSoup\n",
    "import requests\n",
    "import csv"
   ]
  },
  {
   "cell_type": "markdown",
   "metadata": {},
   "source": [
    "#### GPU data scrape"
   ]
  },
  {
   "cell_type": "code",
   "execution_count": 16,
   "metadata": {},
   "outputs": [
    {
     "data": {
      "text/plain": [
       "31"
      ]
     },
     "execution_count": 16,
     "metadata": {},
     "output_type": "execute_result"
    }
   ],
   "source": [
    "gpu_data = open('web_scrape_gpu.csv', 'w', encoding='utf-8')\n",
    "csv_writer = csv.writer(gpu_data)\n",
    "csv_writer.writerow(['Product', 'Price', 'Description', 'Url'])"
   ]
  },
  {
   "cell_type": "code",
   "execution_count": 17,
   "metadata": {},
   "outputs": [],
   "source": [
    "for i in range(151):\n",
    "    source = requests.get('https://www.jimms.fi/fi/Product/List/000-00P/komponentit--naytonohjaimet?p={}&ob=6'.format(i+1)).text\n",
    "    soup = BeautifulSoup(source, 'lxml')\n",
    "    \n",
    "    for item in soup.find_all('div', {'class': 'p_listTmpl1'}):\n",
    "        name = item.find('div', {'class': 'p_name'})\n",
    "\n",
    "        product = name.text\n",
    "\n",
    "        price = item.find('div', {'class': 'p_price'}).text.lstrip().replace('€', '')\n",
    "\n",
    "        desc = item.find('div', {'class': 'p_desc'}).text.lstrip()\n",
    "\n",
    "        url = name.find('a', href=True)\n",
    "        url = 'jimms.fi' + (url['href'])\n",
    "\n",
    "        csv_writer.writerow([product, price, desc, url])\n",
    "\n",
    "gpu_data.close()"
   ]
  },
  {
   "cell_type": "markdown",
   "metadata": {},
   "source": [
    "#### CPU data scrape"
   ]
  },
  {
   "cell_type": "code",
   "execution_count": 18,
   "metadata": {},
   "outputs": [
    {
     "data": {
      "text/plain": [
       "31"
      ]
     },
     "execution_count": 18,
     "metadata": {},
     "output_type": "execute_result"
    }
   ],
   "source": [
    "cpu_data = open('web_scrape_cpu.csv', 'w', encoding='utf-8')\n",
    "csv_writer = csv.writer(cpu_data)\n",
    "csv_writer.writerow(['Product', 'Price', 'Description', 'Url'])"
   ]
  },
  {
   "cell_type": "code",
   "execution_count": 19,
   "metadata": {},
   "outputs": [],
   "source": [
    "for i in range(151):\n",
    "    source = requests.get('https://www.jimms.fi/fi/Product/List/000-00R/komponentit--prosessorit?p={}&ob=6'.format(i+1)).text\n",
    "    soup = BeautifulSoup(source, 'lxml')\n",
    "    \n",
    "    for item in soup.find_all('div', {'class': 'p_listTmpl1'}):\n",
    "        name = item.find('div', {'class': 'p_name'})\n",
    "\n",
    "        product = name.text\n",
    "\n",
    "        price = item.find('div', {'class': 'p_price'}).text.lstrip().replace('€', '')\n",
    "\n",
    "        desc = item.find('div', {'class': 'p_desc'}).text.lstrip()\n",
    "\n",
    "        url = name.find('a', href=True)\n",
    "        url = 'jimms.fi' + (url['href'])\n",
    "\n",
    "        csv_writer.writerow([product, price, desc, url])\n",
    "\n",
    "cpu_data.close()"
   ]
  },
  {
   "cell_type": "markdown",
   "metadata": {},
   "source": [
    "#### MOBO data scrape"
   ]
  },
  {
   "cell_type": "code",
   "execution_count": 20,
   "metadata": {},
   "outputs": [
    {
     "data": {
      "text/plain": [
       "31"
      ]
     },
     "execution_count": 20,
     "metadata": {},
     "output_type": "execute_result"
    }
   ],
   "source": [
    "mobo_data = open('web_scrape_mobo.csv', 'w', encoding='utf-8')\n",
    "csv_writer = csv.writer(mobo_data)\n",
    "csv_writer.writerow(['Product', 'Price', 'Description', 'Url'])"
   ]
  },
  {
   "cell_type": "code",
   "execution_count": 21,
   "metadata": {},
   "outputs": [],
   "source": [
    "for i in range(151):\n",
    "    source = requests.get('https://www.jimms.fi/fi/Product/List/000-00H/komponentit--emolevyt?p={}&ob=6'.format(i+1)).text\n",
    "    soup = BeautifulSoup(source, 'lxml')\n",
    "    \n",
    "    for item in soup.find_all('div', {'class': 'p_listTmpl1'}):\n",
    "        name = item.find('div', {'class': 'p_name'})\n",
    "\n",
    "        product = name.text\n",
    "\n",
    "        price = item.find('div', {'class': 'p_price'}).text.lstrip().replace('€', '')\n",
    "\n",
    "        desc = item.find('div', {'class': 'p_desc'}).text.lstrip()\n",
    "\n",
    "        url = name.find('a', href=True)\n",
    "        url = 'jimms.fi' + (url['href'])\n",
    "\n",
    "        csv_writer.writerow([product, price, desc, url])\n",
    "\n",
    "mobo_data.close()"
   ]
  },
  {
   "cell_type": "markdown",
   "metadata": {},
   "source": [
    "#### RAM data scrape"
   ]
  },
  {
   "cell_type": "code",
   "execution_count": 22,
   "metadata": {},
   "outputs": [
    {
     "data": {
      "text/plain": [
       "31"
      ]
     },
     "execution_count": 22,
     "metadata": {},
     "output_type": "execute_result"
    }
   ],
   "source": [
    "ram_data = open('web_scrape_ram.csv', 'w', encoding='utf-8')\n",
    "csv_writer = csv.writer(ram_data)\n",
    "csv_writer.writerow(['Product', 'Price', 'Description', 'Url'])"
   ]
  },
  {
   "cell_type": "code",
   "execution_count": 23,
   "metadata": {},
   "outputs": [],
   "source": [
    "for i in range(151):\n",
    "    source = requests.get('https://www.jimms.fi/fi/Product/List/000-00N/komponentit--muistit?p={}&ob=6'.format(i+1)).text\n",
    "    soup = BeautifulSoup(source, 'lxml')\n",
    "    \n",
    "    for item in soup.find_all('div', {'class': 'p_listTmpl1'}):\n",
    "        name = item.find('div', {'class': 'p_name'})\n",
    "\n",
    "        product = name.text\n",
    "\n",
    "        price = item.find('div', {'class': 'p_price'}).text.lstrip().replace('€', '')\n",
    "\n",
    "        desc = item.find('div', {'class': 'p_desc'}).text.lstrip()\n",
    "\n",
    "        url = name.find('a', href=True)\n",
    "        url = 'jimms.fi' + (url['href'])\n",
    "\n",
    "        csv_writer.writerow([product, price, desc, url])\n",
    "\n",
    "ram_data.close()"
   ]
  },
  {
   "cell_type": "markdown",
   "metadata": {},
   "source": [
    "#### SSD data scrape"
   ]
  },
  {
   "cell_type": "code",
   "execution_count": 24,
   "metadata": {},
   "outputs": [
    {
     "data": {
      "text/plain": [
       "31"
      ]
     },
     "execution_count": 24,
     "metadata": {},
     "output_type": "execute_result"
    }
   ],
   "source": [
    "ssd_data = open('web_scrape_ssd.csv', 'w', encoding='utf-8')\n",
    "csv_writer = csv.writer(ssd_data)\n",
    "csv_writer.writerow(['Product', 'Price', 'Description', 'Url'])"
   ]
  },
  {
   "cell_type": "code",
   "execution_count": 25,
   "metadata": {},
   "outputs": [],
   "source": [
    "for i in range(151):\n",
    "    source = requests.get('https://www.jimms.fi/fi/Product/List/000-00N/komponentit--muistit?p={}&ob=6'.format(i+1)).text\n",
    "    soup = BeautifulSoup(source, 'lxml')\n",
    "    \n",
    "    for item in soup.find_all('div', {'class': 'p_listTmpl1'}):\n",
    "        name = item.find('div', {'class': 'p_name'})\n",
    "\n",
    "        product = name.text\n",
    "\n",
    "        price = item.find('div', {'class': 'p_price'}).text.lstrip().replace('€', '')\n",
    "\n",
    "        desc = item.find('div', {'class': 'p_desc'}).text.lstrip()\n",
    "\n",
    "        url = name.find('a', href=True)\n",
    "        url = 'jimms.fi' + (url['href'])\n",
    "\n",
    "        csv_writer.writerow([product, price, desc, url])\n",
    "\n",
    "ssd_data.close()"
   ]
  },
  {
   "cell_type": "markdown",
   "metadata": {},
   "source": [
    "#### PSU data scrape"
   ]
  },
  {
   "cell_type": "code",
   "execution_count": 27,
   "metadata": {},
   "outputs": [
    {
     "data": {
      "text/plain": [
       "31"
      ]
     },
     "execution_count": 27,
     "metadata": {},
     "output_type": "execute_result"
    }
   ],
   "source": [
    "psu_data = open('web_scrape_psu.csv', 'w', encoding='utf-8')\n",
    "csv_writer = csv.writer(psu_data)\n",
    "csv_writer.writerow(['Product', 'Price', 'Description', 'Url'])"
   ]
  },
  {
   "cell_type": "code",
   "execution_count": 28,
   "metadata": {},
   "outputs": [],
   "source": [
    "for i in range(151):\n",
    "    source = requests.get('https://www.jimms.fi/fi/Product/List/000-00U/komponentit--virtalahteet?p={}&ob=6'.format(i+1)).text\n",
    "    soup = BeautifulSoup(source, 'lxml')\n",
    "    \n",
    "    for item in soup.find_all('div', {'class': 'p_listTmpl1'}):\n",
    "        name = item.find('div', {'class': 'p_name'})\n",
    "\n",
    "        product = name.text\n",
    "\n",
    "        price = item.find('div', {'class': 'p_price'}).text.lstrip().replace('€', '')\n",
    "\n",
    "        desc = item.find('div', {'class': 'p_desc'}).text.lstrip()\n",
    "\n",
    "        url = name.find('a', href=True)\n",
    "        url = 'jimms.fi' + (url['href'])\n",
    "\n",
    "        csv_writer.writerow([product, price, desc, url])\n",
    "\n",
    "psu_data.close()"
   ]
  },
  {
   "cell_type": "markdown",
   "metadata": {},
   "source": [
    "#### Case data scrape"
   ]
  },
  {
   "cell_type": "code",
   "execution_count": 29,
   "metadata": {},
   "outputs": [
    {
     "data": {
      "text/plain": [
       "31"
      ]
     },
     "execution_count": 29,
     "metadata": {},
     "output_type": "execute_result"
    }
   ],
   "source": [
    "case_data = open('web_scrape_case.csv', 'w', encoding='utf-8')\n",
    "csv_writer = csv.writer(case_data)\n",
    "csv_writer.writerow(['Product', 'Price', 'Description', 'Url'])"
   ]
  },
  {
   "cell_type": "code",
   "execution_count": 30,
   "metadata": {},
   "outputs": [],
   "source": [
    "for i in range(151):\n",
    "    source = requests.get('https://www.jimms.fi/fi/Product/List/000-00J/komponentit--kotelot?p={}&ob=6'.format(i+1)).text\n",
    "    soup = BeautifulSoup(source, 'lxml')\n",
    "    \n",
    "    for item in soup.find_all('div', {'class': 'p_listTmpl1'}):\n",
    "        name = item.find('div', {'class': 'p_name'})\n",
    "\n",
    "        product = name.text\n",
    "\n",
    "        price = item.find('div', {'class': 'p_price'}).text.lstrip().replace('€', '')\n",
    "\n",
    "        desc = item.find('div', {'class': 'p_desc'}).text.lstrip()\n",
    "\n",
    "        url = name.find('a', href=True)\n",
    "        url = 'jimms.fi' + (url['href'])\n",
    "\n",
    "        csv_writer.writerow([product, price, desc, url])\n",
    "\n",
    "case_data.close()"
   ]
  },
  {
   "cell_type": "markdown",
   "metadata": {},
   "source": [
    "#### CPU fan data scrape"
   ]
  },
  {
   "cell_type": "code",
   "execution_count": 31,
   "metadata": {},
   "outputs": [
    {
     "data": {
      "text/plain": [
       "31"
      ]
     },
     "execution_count": 31,
     "metadata": {},
     "output_type": "execute_result"
    }
   ],
   "source": [
    "fan_data = open('web_scrape_fan.csv', 'w', encoding='utf-8')\n",
    "csv_writer = csv.writer(fan_data)\n",
    "csv_writer.writerow(['Product', 'Price', 'Description', 'Url'])"
   ]
  },
  {
   "cell_type": "code",
   "execution_count": 32,
   "metadata": {},
   "outputs": [],
   "source": [
    "for i in range(151):\n",
    "    source = requests.get('https://www.jimms.fi/fi/Product/List/000-104/jaahdytys-ja-erikoistuotteet--jaahdytyssiilit?p={}&ob=6'.format(i+1)).text\n",
    "    soup = BeautifulSoup(source, 'lxml')\n",
    "    \n",
    "    for item in soup.find_all('div', {'class': 'p_listTmpl1'}):\n",
    "        name = item.find('div', {'class': 'p_name'})\n",
    "\n",
    "        product = name.text\n",
    "\n",
    "        price = item.find('div', {'class': 'p_price'}).text.lstrip().replace('€', '')\n",
    "\n",
    "        desc = item.find('div', {'class': 'p_desc'}).text.lstrip()\n",
    "\n",
    "        url = name.find('a', href=True)\n",
    "        url = 'jimms.fi' + (url['href'])\n",
    "\n",
    "        csv_writer.writerow([product, price, desc, url])\n",
    "\n",
    "fan_data.close()"
   ]
  },
  {
   "cell_type": "code",
   "execution_count": 33,
   "metadata": {},
   "outputs": [
    {
     "name": "stdout",
     "output_type": "stream",
     "text": [
      "<div class=\"p_name\">\n",
      " <a href=\"/fi/Product/Show/118623/sst-ar08/silverstone-argon-sst-ar08-cpu-jaahdytin-92mm-tuulettimella-lga775-115x-1366-2011-2066-am2-am3-fm1-fm2\">\n",
      "  <b>\n",
      "   SilverStone\n",
      "  </b>\n",
      "  Argon SST-AR08 CPU-jäähdytin 92mm tuulettimella (LGA775/115X/1366/2011/2066, AM2/AM3/FM1/FM2)\n",
      " </a>\n",
      "</div>\n",
      "\n"
     ]
    }
   ],
   "source": [
    "print(name.prettify())"
   ]
  },
  {
   "cell_type": "code",
   "execution_count": null,
   "metadata": {},
   "outputs": [],
   "source": []
  }
 ],
 "metadata": {
  "kernelspec": {
   "display_name": "Python 3",
   "language": "python",
   "name": "python3"
  },
  "language_info": {
   "codemirror_mode": {
    "name": "ipython",
    "version": 3
   },
   "file_extension": ".py",
   "mimetype": "text/x-python",
   "name": "python",
   "nbconvert_exporter": "python",
   "pygments_lexer": "ipython3",
   "version": "3.8.3"
  }
 },
 "nbformat": 4,
 "nbformat_minor": 4
}
